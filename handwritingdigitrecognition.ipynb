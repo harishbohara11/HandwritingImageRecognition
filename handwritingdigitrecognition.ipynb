{
 "cells": [
  {
   "cell_type": "markdown",
   "id": "43e7b578-66c8-4560-be0f-08ab3b8786ab",
   "metadata": {},
   "source": [
    "# Load dataset"
   ]
  },
  {
   "cell_type": "code",
   "execution_count": 26,
   "id": "3f3c8ec4-5fd2-4594-b8cc-c518cc669e9d",
   "metadata": {},
   "outputs": [],
   "source": [
    "import os\n",
    "os.environ['TF_CPP_MIN_LOG_LEVEL'] = '2'  # '2' hides INFO and WARNING messages\n",
    "\n",
    "import absl.logging\n",
    "absl.logging.set_verbosity(absl.logging.ERROR)"
   ]
  },
  {
   "cell_type": "code",
   "execution_count": 27,
   "id": "4e18a848-a627-48f6-be25-8854311783de",
   "metadata": {},
   "outputs": [],
   "source": [
    "import idx2numpy\n",
    "\n",
    "# Load training images and labels\n",
    "train_images = idx2numpy.convert_from_file('dataset/train-images-idx3-ubyte')\n",
    "train_labels = idx2numpy.convert_from_file('dataset/train-labels-idx1-ubyte')\n",
    "\n",
    "# Load testing images and labels\n",
    "test_images = idx2numpy.convert_from_file('dataset/t10k-images-idx3-ubyte')\n",
    "test_labels = idx2numpy.convert_from_file('dataset/t10k-labels-idx1-ubyte')\n",
    "\n",
    "# Preprocess images: normalize and reshape to (28,28,1)\n",
    "x_train = train_images.reshape(-1, 28, 28, 1).astype(\"float32\") / 255.0\n",
    "y_train = train_labels\n",
    "x_test = test_images.reshape(-1, 28, 28, 1).astype(\"float32\") / 255.0\n",
    "y_test = test_labels"
   ]
  },
  {
   "cell_type": "code",
   "execution_count": 28,
   "id": "28e8e74f-a5f4-453a-8c7f-a9d0a34635f4",
   "metadata": {},
   "outputs": [
    {
     "data": {
      "image/png": "[encoded data removed]",
      "text/plain": [
       "<Figure size 800x400 with 2 Axes>"
      ]
     },
     "metadata": {},
     "output_type": "display_data"
    }
   ],
   "source": [
    "import matplotlib.pyplot as plt\n",
    "\n",
    "# Plot the first two images from x_train with their corresponding labels from y_train\n",
    "plt.figure(figsize=(8, 4))\n",
    "for i in range(2):\n",
    "    plt.subplot(1, 2, i + 1)\n",
    "    # Reshape the image to (28, 28) for display\n",
    "    plt.imshow(x_train[i].reshape(28, 28), cmap='gray')\n",
    "    plt.title(f\"Label: {y_train[i]}\")\n",
    "    plt.axis('off')\n",
    "plt.show()"
   ]
  },
  {
   "cell_type": "markdown",
   "id": "dba3b9ee-6b9b-49b2-9382-bc3a6a780c89",
   "metadata": {},
   "source": [
    "# Building the model"
   ]
  },
  {
   "cell_type": "code",
   "execution_count": 30,
   "id": "2b28cb65-f25e-43eb-a620-80f085033442",
   "metadata": {},
   "outputs": [
    {
     "name": "stdout",
     "output_type": "stream",
     "text": [
      "Epoch 1/5\n",
      "1875/1875 [==============================] - 10s 5ms/step - loss: 0.1619 - accuracy: 0.9496\n",
      "Epoch 2/5\n",
      "1875/1875 [==============================] - 9s 5ms/step - loss: 0.0587 - accuracy: 0.9817\n",
      "Epoch 3/5\n",
      "1875/1875 [==============================] - 8s 4ms/step - loss: 0.0426 - accuracy: 0.9869\n",
      "Epoch 4/5\n",
      "1875/1875 [==============================] - 8s 4ms/step - loss: 0.0319 - accuracy: 0.9904\n",
      "Epoch 5/5\n",
      "1875/1875 [==============================] - 8s 4ms/step - loss: 0.0281 - accuracy: 0.9914\n",
      "Epoch 1/5\n",
      "1875/1875 [==============================] - 8s 4ms/step - loss: 0.1699 - accuracy: 0.9470\n",
      "Epoch 2/5\n",
      "1875/1875 [==============================] - 15s 8ms/step - loss: 0.0608 - accuracy: 0.9819\n",
      "Epoch 3/5\n",
      "1875/1875 [==============================] - 9s 5ms/step - loss: 0.0450 - accuracy: 0.9868\n",
      "Epoch 4/5\n",
      "1875/1875 [==============================] - 8s 4ms/step - loss: 0.0343 - accuracy: 0.9894\n",
      "Epoch 5/5\n",
      "1875/1875 [==============================] - 8s 4ms/step - loss: 0.0264 - accuracy: 0.9916\n",
      "313/313 [==============================] - 0s 1ms/step\n",
      "313/313 [==============================] - 0s 1ms/step\n"
     ]
    },
    {
     "name": "stderr",
     "output_type": "stream",
     "text": [
      "2025/02/24 16:10:46 WARNING mlflow.tensorflow: You are saving a TensorFlow Core model or Keras model without a signature. Inference with mlflow.pyfunc.spark_udf() will not work unless the model's pyfunc representation accepts pandas DataFrames as inference inputs.\n"
     ]
    },
    {
     "name": "stdout",
     "output_type": "stream",
     "text": [
      "INFO:tensorflow:Assets written to: /var/folders/p_/h13vrd1n5rx9gydc1ms4yj6c0000gn/T/tmpzgk0p7n5/model/data/model/assets\n"
     ]
    },
    {
     "name": "stderr",
     "output_type": "stream",
     "text": [
      "INFO:tensorflow:Assets written to: /var/folders/p_/h13vrd1n5rx9gydc1ms4yj6c0000gn/T/tmpzgk0p7n5/model/data/model/assets\n",
      "2025/02/24 16:10:49 WARNING mlflow.models.model: Model logged without a signature and input example. Please set `input_example` parameter when logging the model to auto infer the model signature.\n",
      "2025/02/24 16:10:49 WARNING mlflow.tensorflow: You are saving a TensorFlow Core model or Keras model without a signature. Inference with mlflow.pyfunc.spark_udf() will not work unless the model's pyfunc representation accepts pandas DataFrames as inference inputs.\n"
     ]
    },
    {
     "name": "stdout",
     "output_type": "stream",
     "text": [
      "INFO:tensorflow:Assets written to: /var/folders/p_/h13vrd1n5rx9gydc1ms4yj6c0000gn/T/tmp7jnfuje8/model/data/model/assets\n"
     ]
    },
    {
     "name": "stderr",
     "output_type": "stream",
     "text": [
      "INFO:tensorflow:Assets written to: /var/folders/p_/h13vrd1n5rx9gydc1ms4yj6c0000gn/T/tmp7jnfuje8/model/data/model/assets\n",
      "2025/02/24 16:10:51 WARNING mlflow.models.model: Model logged without a signature and input example. Please set `input_example` parameter when logging the model to auto infer the model signature.\n"
     ]
    },
    {
     "name": "stdout",
     "output_type": "stream",
     "text": [
      "Dropout: 0.3, LR: 0.001, Ensemble Acc: 0.9930\n",
      "--> New best models saved with accuracy: 0.9930\n",
      "Epoch 1/5\n",
      "   1/1875 [..............................] - ETA: 3:19 - loss: 2.3145 - accuracy: 0.0312"
     ]
    },
    {
     "name": "stderr",
     "output_type": "stream",
     "text": [
      "/opt/anaconda3/envs/mlops/lib/python3.8/site-packages/keras/src/engine/training.py:3000: UserWarning: You are saving your model as an HDF5 file via `model.save()`. This file format is considered legacy. We recommend using instead the native Keras format, e.g. `model.save('my_model.keras')`.\n",
      "  saving_api.save_model(\n"
     ]
    },
    {
     "name": "stdout",
     "output_type": "stream",
     "text": [
      "1875/1875 [==============================] - 8s 4ms/step - loss: 0.4217 - accuracy: 0.8799\n",
      "Epoch 2/5\n",
      "1875/1875 [==============================] - 8s 4ms/step - loss: 0.1302 - accuracy: 0.9610\n",
      "Epoch 3/5\n",
      "1875/1875 [==============================] - 9s 5ms/step - loss: 0.0941 - accuracy: 0.9714\n",
      "Epoch 4/5\n",
      "1875/1875 [==============================] - 9s 5ms/step - loss: 0.0761 - accuracy: 0.9770\n",
      "Epoch 5/5\n",
      "1875/1875 [==============================] - 8s 4ms/step - loss: 0.0632 - accuracy: 0.9810\n",
      "Epoch 1/5\n",
      "1875/1875 [==============================] - 8s 4ms/step - loss: 0.4403 - accuracy: 0.8741\n",
      "Epoch 2/5\n",
      "1875/1875 [==============================] - 8s 4ms/step - loss: 0.1361 - accuracy: 0.9588\n",
      "Epoch 3/5\n",
      "1875/1875 [==============================] - 8s 4ms/step - loss: 0.0992 - accuracy: 0.9701\n",
      "Epoch 4/5\n",
      "1875/1875 [==============================] - 8s 4ms/step - loss: 0.0819 - accuracy: 0.9751\n",
      "Epoch 5/5\n",
      "1875/1875 [==============================] - 8s 4ms/step - loss: 0.0694 - accuracy: 0.9786\n",
      "313/313 [==============================] - 0s 1ms/step\n",
      "313/313 [==============================] - 0s 1ms/step\n"
     ]
    },
    {
     "name": "stderr",
     "output_type": "stream",
     "text": [
      "2025/02/24 16:12:13 WARNING mlflow.tensorflow: You are saving a TensorFlow Core model or Keras model without a signature. Inference with mlflow.pyfunc.spark_udf() will not work unless the model's pyfunc representation accepts pandas DataFrames as inference inputs.\n"
     ]
    },
    {
     "name": "stdout",
     "output_type": "stream",
     "text": [
      "INFO:tensorflow:Assets written to: /var/folders/p_/h13vrd1n5rx9gydc1ms4yj6c0000gn/T/tmp7_y6uvw2/model/data/model/assets\n"
     ]
    },
    {
     "name": "stderr",
     "output_type": "stream",
     "text": [
      "INFO:tensorflow:Assets written to: /var/folders/p_/h13vrd1n5rx9gydc1ms4yj6c0000gn/T/tmp7_y6uvw2/model/data/model/assets\n",
      "2025/02/24 16:12:16 WARNING mlflow.models.model: Model logged without a signature and input example. Please set `input_example` parameter when logging the model to auto infer the model signature.\n",
      "2025/02/24 16:12:16 WARNING mlflow.tensorflow: You are saving a TensorFlow Core model or Keras model without a signature. Inference with mlflow.pyfunc.spark_udf() will not work unless the model's pyfunc representation accepts pandas DataFrames as inference inputs.\n"
     ]
    },
    {
     "name": "stdout",
     "output_type": "stream",
     "text": [
      "INFO:tensorflow:Assets written to: /var/folders/p_/h13vrd1n5rx9gydc1ms4yj6c0000gn/T/tmpdc2gnlj8/model/data/model/assets\n"
     ]
    },
    {
     "name": "stderr",
     "output_type": "stream",
     "text": [
      "INFO:tensorflow:Assets written to: /var/folders/p_/h13vrd1n5rx9gydc1ms4yj6c0000gn/T/tmpdc2gnlj8/model/data/model/assets\n",
      "2025/02/24 16:12:18 WARNING mlflow.models.model: Model logged without a signature and input example. Please set `input_example` parameter when logging the model to auto infer the model signature.\n"
     ]
    },
    {
     "name": "stdout",
     "output_type": "stream",
     "text": [
      "Dropout: 0.3, LR: 0.0001, Ensemble Acc: 0.9870\n",
      "Epoch 1/5\n",
      "1875/1875 [==============================] - 8s 4ms/step - loss: 0.2023 - accuracy: 0.9385\n",
      "Epoch 2/5\n",
      "1875/1875 [==============================] - 8s 4ms/step - loss: 0.0784 - accuracy: 0.9776\n",
      "Epoch 3/5\n",
      "1875/1875 [==============================] - 8s 4ms/step - loss: 0.0582 - accuracy: 0.9835\n",
      "Epoch 4/5\n",
      "1875/1875 [==============================] - 8s 4ms/step - loss: 0.0455 - accuracy: 0.9864\n",
      "Epoch 5/5\n",
      "1875/1875 [==============================] - 8s 4ms/step - loss: 0.0362 - accuracy: 0.9891\n",
      "Epoch 1/5\n",
      "1875/1875 [==============================] - 8s 4ms/step - loss: 0.2075 - accuracy: 0.9366\n",
      "Epoch 2/5\n",
      "1875/1875 [==============================] - 8s 4ms/step - loss: 0.0767 - accuracy: 0.9778\n",
      "Epoch 3/5\n",
      "1875/1875 [==============================] - 8s 4ms/step - loss: 0.0573 - accuracy: 0.9833\n",
      "Epoch 4/5\n",
      "1875/1875 [==============================] - 8s 4ms/step - loss: 0.0455 - accuracy: 0.9861\n",
      "Epoch 5/5\n",
      "1875/1875 [==============================] - 8s 4ms/step - loss: 0.0374 - accuracy: 0.9887\n",
      "313/313 [==============================] - 0s 1ms/step\n",
      "313/313 [==============================] - 0s 1ms/step\n"
     ]
    },
    {
     "name": "stderr",
     "output_type": "stream",
     "text": [
      "2025/02/24 16:13:37 WARNING mlflow.tensorflow: You are saving a TensorFlow Core model or Keras model without a signature. Inference with mlflow.pyfunc.spark_udf() will not work unless the model's pyfunc representation accepts pandas DataFrames as inference inputs.\n"
     ]
    },
    {
     "name": "stdout",
     "output_type": "stream",
     "text": [
      "INFO:tensorflow:Assets written to: /var/folders/p_/h13vrd1n5rx9gydc1ms4yj6c0000gn/T/tmp0tu9nbjw/model/data/model/assets\n"
     ]
    },
    {
     "name": "stderr",
     "output_type": "stream",
     "text": [
      "INFO:tensorflow:Assets written to: /var/folders/p_/h13vrd1n5rx9gydc1ms4yj6c0000gn/T/tmp0tu9nbjw/model/data/model/assets\n",
      "2025/02/24 16:13:39 WARNING mlflow.models.model: Model logged without a signature and input example. Please set `input_example` parameter when logging the model to auto infer the model signature.\n",
      "2025/02/24 16:13:39 WARNING mlflow.tensorflow: You are saving a TensorFlow Core model or Keras model without a signature. Inference with mlflow.pyfunc.spark_udf() will not work unless the model's pyfunc representation accepts pandas DataFrames as inference inputs.\n"
     ]
    },
    {
     "name": "stdout",
     "output_type": "stream",
     "text": [
      "INFO:tensorflow:Assets written to: /var/folders/p_/h13vrd1n5rx9gydc1ms4yj6c0000gn/T/tmp7yzeleg7/model/data/model/assets\n"
     ]
    },
    {
     "name": "stderr",
     "output_type": "stream",
     "text": [
      "INFO:tensorflow:Assets written to: /var/folders/p_/h13vrd1n5rx9gydc1ms4yj6c0000gn/T/tmp7yzeleg7/model/data/model/assets\n",
      "2025/02/24 16:13:41 WARNING mlflow.models.model: Model logged without a signature and input example. Please set `input_example` parameter when logging the model to auto infer the model signature.\n"
     ]
    },
    {
     "name": "stdout",
     "output_type": "stream",
     "text": [
      "Dropout: 0.5, LR: 0.001, Ensemble Acc: 0.9936\n",
      "--> New best models saved with accuracy: 0.9936\n",
      "Epoch 1/5\n",
      "   1/1875 [..............................] - ETA: 3:17 - loss: 2.3511 - accuracy: 0.0625"
     ]
    },
    {
     "name": "stderr",
     "output_type": "stream",
     "text": [
      "/opt/anaconda3/envs/mlops/lib/python3.8/site-packages/keras/src/engine/training.py:3000: UserWarning: You are saving your model as an HDF5 file via `model.save()`. This file format is considered legacy. We recommend using instead the native Keras format, e.g. `model.save('my_model.keras')`.\n",
      "  saving_api.save_model(\n"
     ]
    },
    {
     "name": "stdout",
     "output_type": "stream",
     "text": [
      "1875/1875 [==============================] - 8s 4ms/step - loss: 0.5350 - accuracy: 0.8408\n",
      "Epoch 2/5\n",
      "1875/1875 [==============================] - 8s 4ms/step - loss: 0.1742 - accuracy: 0.9490\n",
      "Epoch 3/5\n",
      "1875/1875 [==============================] - 9s 5ms/step - loss: 0.1286 - accuracy: 0.9616\n",
      "Epoch 4/5\n",
      "1875/1875 [==============================] - 8s 4ms/step - loss: 0.1035 - accuracy: 0.9692\n",
      "Epoch 5/5\n",
      "1875/1875 [==============================] - 8s 4ms/step - loss: 0.0888 - accuracy: 0.9737\n",
      "Epoch 1/5\n",
      "1875/1875 [==============================] - 8s 4ms/step - loss: 0.5361 - accuracy: 0.8410\n",
      "Epoch 2/5\n",
      "1875/1875 [==============================] - 8s 4ms/step - loss: 0.1727 - accuracy: 0.9495\n",
      "Epoch 3/5\n",
      "1875/1875 [==============================] - 8s 4ms/step - loss: 0.1257 - accuracy: 0.9626\n",
      "Epoch 4/5\n",
      "1875/1875 [==============================] - 8s 4ms/step - loss: 0.1017 - accuracy: 0.9695\n",
      "Epoch 5/5\n",
      "1875/1875 [==============================] - 8s 4ms/step - loss: 0.0879 - accuracy: 0.9742\n",
      "313/313 [==============================] - 0s 1ms/step\n",
      "313/313 [==============================] - 0s 1ms/step\n"
     ]
    },
    {
     "name": "stderr",
     "output_type": "stream",
     "text": [
      "2025/02/24 16:15:04 WARNING mlflow.tensorflow: You are saving a TensorFlow Core model or Keras model without a signature. Inference with mlflow.pyfunc.spark_udf() will not work unless the model's pyfunc representation accepts pandas DataFrames as inference inputs.\n"
     ]
    },
    {
     "name": "stdout",
     "output_type": "stream",
     "text": [
      "INFO:tensorflow:Assets written to: /var/folders/p_/h13vrd1n5rx9gydc1ms4yj6c0000gn/T/tmpo2wi3tep/model/data/model/assets\n"
     ]
    },
    {
     "name": "stderr",
     "output_type": "stream",
     "text": [
      "INFO:tensorflow:Assets written to: /var/folders/p_/h13vrd1n5rx9gydc1ms4yj6c0000gn/T/tmpo2wi3tep/model/data/model/assets\n",
      "2025/02/24 16:15:07 WARNING mlflow.models.model: Model logged without a signature and input example. Please set `input_example` parameter when logging the model to auto infer the model signature.\n",
      "2025/02/24 16:15:07 WARNING mlflow.tensorflow: You are saving a TensorFlow Core model or Keras model without a signature. Inference with mlflow.pyfunc.spark_udf() will not work unless the model's pyfunc representation accepts pandas DataFrames as inference inputs.\n"
     ]
    },
    {
     "name": "stdout",
     "output_type": "stream",
     "text": [
      "INFO:tensorflow:Assets written to: /var/folders/p_/h13vrd1n5rx9gydc1ms4yj6c0000gn/T/tmpl7h86ldn/model/data/model/assets\n"
     ]
    },
    {
     "name": "stderr",
     "output_type": "stream",
     "text": [
      "INFO:tensorflow:Assets written to: /var/folders/p_/h13vrd1n5rx9gydc1ms4yj6c0000gn/T/tmpl7h86ldn/model/data/model/assets\n",
      "2025/02/24 16:15:09 WARNING mlflow.models.model: Model logged without a signature and input example. Please set `input_example` parameter when logging the model to auto infer the model signature.\n"
     ]
    },
    {
     "name": "stdout",
     "output_type": "stream",
     "text": [
      "Dropout: 0.5, LR: 0.0001, Ensemble Acc: 0.9857\n"
     ]
    }
   ],
   "source": [
    "import mlflow\n",
    "import mlflow.tensorflow\n",
    "\n",
    "hyperparams = {\n",
    "    \"dropout_rates\": [0.3, 0.5],\n",
    "    \"learning_rates\": [0.001, 0.0001]\n",
    "}\n",
    "\n",
    "best_accuracy = 0.0\n",
    "\n",
    "# Grid search for hyperparameters\n",
    "for dropout_rate in hyperparams[\"dropout_rates\"]:\n",
    "    for learning_rate in hyperparams[\"learning_rates\"]:\n",
    "        with mlflow.start_run():\n",
    "            # Log hyperparameters\n",
    "            mlflow.log_param(\"dropout_rate\", dropout_rate)\n",
    "            mlflow.log_param(\"learning_rate\", learning_rate)\n",
    "\n",
    "            # Train first model on training data\n",
    "            model1 = create_model(dropout_rate, learning_rate)\n",
    "            history1 = model1.fit(\n",
    "                x_train, y_train,\n",
    "                epochs=5,\n",
    "                verbose=1\n",
    "            )\n",
    "            \n",
    "            # Train second model on training data\n",
    "            model2 = create_model(dropout_rate, learning_rate)\n",
    "            history2 = model2.fit(\n",
    "                x_train, y_train,\n",
    "                epochs=5,\n",
    "                verbose=1\n",
    "            )\n",
    "            \n",
    "            # Evaluate ensemble model on test data\n",
    "            ensemble_pred = ensemble_predictions(model1, model2, x_test)\n",
    "            ensemble_accuracy = np.mean(np.argmax(ensemble_pred, axis=1) == y_test)\n",
    "            \n",
    "            mlflow.log_metric(\"ensemble_accuracy\", ensemble_accuracy)\n",
    "            \n",
    "            # Optionally, log models\n",
    "            mlflow.tensorflow.log_model(model1, \"model1\")\n",
    "            mlflow.tensorflow.log_model(model2, \"model2\")\n",
    "            \n",
    "            print(f\"Dropout: {dropout_rate}, LR: {learning_rate}, Ensemble Acc: {ensemble_accuracy:.4f}\")\n",
    "\n",
    "            # Save the best-performing models\n",
    "            if ensemble_accuracy > best_accuracy:\n",
    "                best_accuracy = ensemble_accuracy\n",
    "                model1.save(\"model1_best.h5\")\n",
    "                model2.save(\"model2_best.h5\")\n",
    "                print(f\"--> New best models saved with accuracy: {best_accuracy:.4f}\")"
   ]
  },
  {
   "cell_type": "code",
   "execution_count": null,
   "id": "b36971da-fcfa-4cfa-821f-2b76e7fca94e",
   "metadata": {},
   "outputs": [],
   "source": []
  }
 ],
 "metadata": {
  "kernelspec": {
   "display_name": "Python 3 (ipykernel)",
   "language": "python",
   "name": "python3"
  },
  "language_info": {
   "codemirror_mode": {
    "name": "ipython",
    "version": 3
   },
   "file_extension": ".py",
   "mimetype": "text/x-python",
   "name": "python",
   "nbconvert_exporter": "python",
   "pygments_lexer": "ipython3",
   "version": "3.8.20"
  }
 },
 "nbformat": 4,
 "nbformat_minor": 5
}
